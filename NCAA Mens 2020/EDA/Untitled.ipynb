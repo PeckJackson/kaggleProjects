{
 "cells": [
  {
   "cell_type": "code",
   "execution_count": 1,
   "metadata": {},
   "outputs": [],
   "source": [
    "import pandas as pd\n",
    "import numpy as np\n",
    "import matplotlib.pyplot as plt\n",
    "import seaborn as sns\n",
    "%matplotlib inline"
   ]
  },
  {
   "cell_type": "code",
   "execution_count": 2,
   "metadata": {},
   "outputs": [],
   "source": [
    "data = pd.read_csv('..\\\\data\\\\MEvents2015.csv')"
   ]
  },
  {
   "cell_type": "code",
   "execution_count": 4,
   "metadata": {},
   "outputs": [
    {
     "name": "stdout",
     "output_type": "stream",
     "text": [
      "<class 'pandas.core.frame.DataFrame'>\n",
      "RangeIndex: 2560825 entries, 0 to 2560824\n",
      "Data columns (total 17 columns):\n",
      "EventID           int64\n",
      "Season            int64\n",
      "DayNum            int64\n",
      "WTeamID           int64\n",
      "LTeamID           int64\n",
      "WFinalScore       int64\n",
      "LFinalScore       int64\n",
      "WCurrentScore     int64\n",
      "LCurrentScore     int64\n",
      "ElapsedSeconds    int64\n",
      "EventTeamID       int64\n",
      "EventPlayerID     int64\n",
      "EventType         object\n",
      "EventSubType      object\n",
      "X                 int64\n",
      "Y                 int64\n",
      "Area              int64\n",
      "dtypes: int64(15), object(2)\n",
      "memory usage: 332.1+ MB\n"
     ]
    }
   ],
   "source": [
    "data.info()"
   ]
  },
  {
   "cell_type": "code",
   "execution_count": null,
   "metadata": {},
   "outputs": [],
   "source": []
  }
 ],
 "metadata": {
  "kernelspec": {
   "display_name": "Python 3",
   "language": "python",
   "name": "python3"
  },
  "language_info": {
   "codemirror_mode": {
    "name": "ipython",
    "version": 3
   },
   "file_extension": ".py",
   "mimetype": "text/x-python",
   "name": "python",
   "nbconvert_exporter": "python",
   "pygments_lexer": "ipython3",
   "version": "3.7.3"
  }
 },
 "nbformat": 4,
 "nbformat_minor": 2
}
