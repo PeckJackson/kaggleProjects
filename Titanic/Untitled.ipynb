{
 "cells": [
  {
   "cell_type": "code",
   "execution_count": 125,
   "metadata": {},
   "outputs": [],
   "source": [
    "import pandas as pd\n",
    "import numpy as np\n",
    "import seaborn as sns\n",
    "import matplotlib.pyplot as plt\n",
    "%matplotlib inline"
   ]
  },
  {
   "cell_type": "code",
   "execution_count": 126,
   "metadata": {},
   "outputs": [],
   "source": [
    "df = pd.read_csv('train.csv')"
   ]
  },
  {
   "cell_type": "code",
   "execution_count": 127,
   "metadata": {},
   "outputs": [
    {
     "data": {
      "text/html": [
       "<div>\n",
       "<style scoped>\n",
       "    .dataframe tbody tr th:only-of-type {\n",
       "        vertical-align: middle;\n",
       "    }\n",
       "\n",
       "    .dataframe tbody tr th {\n",
       "        vertical-align: top;\n",
       "    }\n",
       "\n",
       "    .dataframe thead th {\n",
       "        text-align: right;\n",
       "    }\n",
       "</style>\n",
       "<table border=\"1\" class=\"dataframe\">\n",
       "  <thead>\n",
       "    <tr style=\"text-align: right;\">\n",
       "      <th></th>\n",
       "      <th>PassengerId</th>\n",
       "      <th>Survived</th>\n",
       "      <th>Pclass</th>\n",
       "      <th>Name</th>\n",
       "      <th>Sex</th>\n",
       "      <th>Age</th>\n",
       "      <th>SibSp</th>\n",
       "      <th>Parch</th>\n",
       "      <th>Ticket</th>\n",
       "      <th>Fare</th>\n",
       "      <th>Cabin</th>\n",
       "      <th>Embarked</th>\n",
       "    </tr>\n",
       "  </thead>\n",
       "  <tbody>\n",
       "    <tr>\n",
       "      <th>0</th>\n",
       "      <td>1</td>\n",
       "      <td>0</td>\n",
       "      <td>3</td>\n",
       "      <td>Braund, Mr. Owen Harris</td>\n",
       "      <td>male</td>\n",
       "      <td>22.0</td>\n",
       "      <td>1</td>\n",
       "      <td>0</td>\n",
       "      <td>A/5 21171</td>\n",
       "      <td>7.2500</td>\n",
       "      <td>NaN</td>\n",
       "      <td>S</td>\n",
       "    </tr>\n",
       "    <tr>\n",
       "      <th>1</th>\n",
       "      <td>2</td>\n",
       "      <td>1</td>\n",
       "      <td>1</td>\n",
       "      <td>Cumings, Mrs. John Bradley (Florence Briggs Th...</td>\n",
       "      <td>female</td>\n",
       "      <td>38.0</td>\n",
       "      <td>1</td>\n",
       "      <td>0</td>\n",
       "      <td>PC 17599</td>\n",
       "      <td>71.2833</td>\n",
       "      <td>C85</td>\n",
       "      <td>C</td>\n",
       "    </tr>\n",
       "    <tr>\n",
       "      <th>2</th>\n",
       "      <td>3</td>\n",
       "      <td>1</td>\n",
       "      <td>3</td>\n",
       "      <td>Heikkinen, Miss. Laina</td>\n",
       "      <td>female</td>\n",
       "      <td>26.0</td>\n",
       "      <td>0</td>\n",
       "      <td>0</td>\n",
       "      <td>STON/O2. 3101282</td>\n",
       "      <td>7.9250</td>\n",
       "      <td>NaN</td>\n",
       "      <td>S</td>\n",
       "    </tr>\n",
       "    <tr>\n",
       "      <th>3</th>\n",
       "      <td>4</td>\n",
       "      <td>1</td>\n",
       "      <td>1</td>\n",
       "      <td>Futrelle, Mrs. Jacques Heath (Lily May Peel)</td>\n",
       "      <td>female</td>\n",
       "      <td>35.0</td>\n",
       "      <td>1</td>\n",
       "      <td>0</td>\n",
       "      <td>113803</td>\n",
       "      <td>53.1000</td>\n",
       "      <td>C123</td>\n",
       "      <td>S</td>\n",
       "    </tr>\n",
       "    <tr>\n",
       "      <th>4</th>\n",
       "      <td>5</td>\n",
       "      <td>0</td>\n",
       "      <td>3</td>\n",
       "      <td>Allen, Mr. William Henry</td>\n",
       "      <td>male</td>\n",
       "      <td>35.0</td>\n",
       "      <td>0</td>\n",
       "      <td>0</td>\n",
       "      <td>373450</td>\n",
       "      <td>8.0500</td>\n",
       "      <td>NaN</td>\n",
       "      <td>S</td>\n",
       "    </tr>\n",
       "  </tbody>\n",
       "</table>\n",
       "</div>"
      ],
      "text/plain": [
       "   PassengerId  Survived  Pclass  \\\n",
       "0            1         0       3   \n",
       "1            2         1       1   \n",
       "2            3         1       3   \n",
       "3            4         1       1   \n",
       "4            5         0       3   \n",
       "\n",
       "                                                Name     Sex   Age  SibSp  \\\n",
       "0                            Braund, Mr. Owen Harris    male  22.0      1   \n",
       "1  Cumings, Mrs. John Bradley (Florence Briggs Th...  female  38.0      1   \n",
       "2                             Heikkinen, Miss. Laina  female  26.0      0   \n",
       "3       Futrelle, Mrs. Jacques Heath (Lily May Peel)  female  35.0      1   \n",
       "4                           Allen, Mr. William Henry    male  35.0      0   \n",
       "\n",
       "   Parch            Ticket     Fare Cabin Embarked  \n",
       "0      0         A/5 21171   7.2500   NaN        S  \n",
       "1      0          PC 17599  71.2833   C85        C  \n",
       "2      0  STON/O2. 3101282   7.9250   NaN        S  \n",
       "3      0            113803  53.1000  C123        S  \n",
       "4      0            373450   8.0500   NaN        S  "
      ]
     },
     "execution_count": 127,
     "metadata": {},
     "output_type": "execute_result"
    }
   ],
   "source": [
    "df.head()"
   ]
  },
  {
   "cell_type": "markdown",
   "metadata": {},
   "source": [
    "First lets check for missing values"
   ]
  },
  {
   "cell_type": "code",
   "execution_count": 128,
   "metadata": {},
   "outputs": [],
   "source": [
    "# sns.heatmap(df.isnull(),yticklabels=False,cmap='coolwarm')"
   ]
  },
  {
   "cell_type": "code",
   "execution_count": 129,
   "metadata": {},
   "outputs": [
    {
     "data": {
      "text/plain": [
       "PassengerId      0\n",
       "Survived         0\n",
       "Pclass           0\n",
       "Name             0\n",
       "Sex              0\n",
       "Age            177\n",
       "SibSp            0\n",
       "Parch            0\n",
       "Ticket           0\n",
       "Fare             0\n",
       "Cabin          687\n",
       "Embarked         2\n",
       "dtype: int64"
      ]
     },
     "execution_count": 129,
     "metadata": {},
     "output_type": "execute_result"
    }
   ],
   "source": [
    "df.isnull().sum()"
   ]
  },
  {
   "cell_type": "markdown",
   "metadata": {},
   "source": [
    "Some missing Age and a lot of missing Cabin data. Will have to determine the best action to filling in this data. \n",
    "\n",
    "For now begin by looking through the different columns"
   ]
  },
  {
   "cell_type": "code",
   "execution_count": 130,
   "metadata": {},
   "outputs": [
    {
     "data": {
      "text/plain": [
       "<matplotlib.axes._subplots.AxesSubplot at 0x1e409ad6b38>"
      ]
     },
     "execution_count": 130,
     "metadata": {},
     "output_type": "execute_result"
    },
    {
     "data": {
      "image/png": "[encoded data removed]",
      "text/plain": [
       "<Figure size 432x288 with 1 Axes>"
      ]
     },
     "metadata": {},
     "output_type": "display_data"
    }
   ],
   "source": [
    "sns.set_style('darkgrid')\n",
    "sns.set_palette('muted')\n",
    "sns.countplot(df['Survived']) #1 = Survived, 0 did not. "
   ]
  },
  {
   "cell_type": "markdown",
   "metadata": {},
   "source": [
    "So this is an example of a slightly inbalanced data set but not too bad.\n",
    "\n",
    "Lets check the passenger class and see if that has a strong connection to survival."
   ]
  },
  {
   "cell_type": "code",
   "execution_count": 131,
   "metadata": {},
   "outputs": [
    {
     "data": {
      "text/plain": [
       "<matplotlib.axes._subplots.AxesSubplot at 0x1e409b1be48>"
      ]
     },
     "execution_count": 131,
     "metadata": {},
     "output_type": "execute_result"
    },
    {
     "data": {
      "image/png": "[encoded data removed]",
      "text/plain": [
       "<Figure size 432x288 with 1 Axes>"
      ]
     },
     "metadata": {},
     "output_type": "display_data"
    }
   ],
   "source": [
    "sns.countplot(x='Pclass',data=df,hue='Survived')"
   ]
  },
  {
   "cell_type": "markdown",
   "metadata": {},
   "source": [
    "It is clear that a passenger's class has a stron effect on if they survived or not.\n",
    "\n",
    "The name column will likely be dropped during feature engineering."
   ]
  },
  {
   "cell_type": "code",
   "execution_count": 132,
   "metadata": {},
   "outputs": [
    {
     "data": {
      "text/plain": [
       "<matplotlib.axes._subplots.AxesSubplot at 0x1e409b83208>"
      ]
     },
     "execution_count": 132,
     "metadata": {},
     "output_type": "execute_result"
    },
    {
     "data": {
      "image/png": "[encoded data removed]",
      "text/plain": [
       "<Figure size 432x288 with 1 Axes>"
      ]
     },
     "metadata": {},
     "output_type": "display_data"
    }
   ],
   "source": [
    "sns.countplot(x='Sex',data=df,hue='Survived')"
   ]
  },
  {
   "cell_type": "markdown",
   "metadata": {},
   "source": [
    "Women were much more likely to survive compared to men. "
   ]
  },
  {
   "cell_type": "code",
   "execution_count": 133,
   "metadata": {},
   "outputs": [
    {
     "data": {
      "text/plain": [
       "<matplotlib.legend.Legend at 0x1e409bc6390>"
      ]
     },
     "execution_count": 133,
     "metadata": {},
     "output_type": "execute_result"
    },
    {
     "data": {
      "image/png": "[encoded data removed]",
      "text/plain": [
       "<Figure size 432x288 with 1 Axes>"
      ]
     },
     "metadata": {},
     "output_type": "display_data"
    }
   ],
   "source": [
    "#To check if age had an effect of surival can break down the data into two sets and then plot historgrams. \n",
    "age_survived = df.loc[df['Survived']==1]['Age'].dropna()\n",
    "age_died = df.loc[df['Survived']==0]['Age'].dropna()\n",
    "\n",
    "sns.distplot(age_survived,bins=20,label='Survived')\n",
    "sns.distplot(age_died,bins=20,label='Died')\n",
    "plt.legend()"
   ]
  },
  {
   "cell_type": "markdown",
   "metadata": {},
   "source": [
    "Shows that young children made up a larger percentage of the survivors. "
   ]
  },
  {
   "cell_type": "code",
   "execution_count": 134,
   "metadata": {},
   "outputs": [
    {
     "data": {
      "text/plain": [
       "0    1\n",
       "1    1\n",
       "2    0\n",
       "3    1\n",
       "4    0\n",
       "Name: SibSp, dtype: int64"
      ]
     },
     "execution_count": 134,
     "metadata": {},
     "output_type": "execute_result"
    }
   ],
   "source": [
    "df['SibSp'].head()"
   ]
  },
  {
   "cell_type": "code",
   "execution_count": 135,
   "metadata": {},
   "outputs": [
    {
     "data": {
      "text/plain": [
       "<matplotlib.axes._subplots.AxesSubplot at 0x1e409c3d710>"
      ]
     },
     "execution_count": 135,
     "metadata": {},
     "output_type": "execute_result"
    },
    {
     "data": {
      "image/png": "[encoded data removed]",
      "text/plain": [
       "<Figure size 432x288 with 1 Axes>"
      ]
     },
     "metadata": {},
     "output_type": "display_data"
    }
   ],
   "source": [
    "sns.countplot(x='SibSp',data=df,hue='Survived')"
   ]
  },
  {
   "cell_type": "markdown",
   "metadata": {},
   "source": [
    "Actually shows that having a large family onboard often resulted in mostly deaths. "
   ]
  },
  {
   "cell_type": "code",
   "execution_count": 136,
   "metadata": {},
   "outputs": [
    {
     "data": {
      "text/plain": [
       "0    0\n",
       "1    0\n",
       "2    0\n",
       "3    0\n",
       "4    0\n",
       "Name: Parch, dtype: int64"
      ]
     },
     "execution_count": 136,
     "metadata": {},
     "output_type": "execute_result"
    }
   ],
   "source": [
    "df['Parch'].head()"
   ]
  },
  {
   "cell_type": "code",
   "execution_count": 137,
   "metadata": {},
   "outputs": [
    {
     "data": {
      "text/plain": [
       "<matplotlib.axes._subplots.AxesSubplot at 0x1e409d28a58>"
      ]
     },
     "execution_count": 137,
     "metadata": {},
     "output_type": "execute_result"
    },
    {
     "data": {
      "image/png": "[encoded data removed]",
      "text/plain": [
       "<Figure size 432x288 with 1 Axes>"
      ]
     },
     "metadata": {},
     "output_type": "display_data"
    }
   ],
   "source": [
    "sns.countplot(x='Parch',data=df,hue='Survived')"
   ]
  },
  {
   "cell_type": "code",
   "execution_count": 138,
   "metadata": {},
   "outputs": [
    {
     "data": {
      "text/plain": [
       "<matplotlib.legend.Legend at 0x1e409dba208>"
      ]
     },
     "execution_count": 138,
     "metadata": {},
     "output_type": "execute_result"
    },
    {
     "data": {
      "image/png": "[encoded data removed]",
      "text/plain": [
       "<Figure size 432x288 with 1 Axes>"
      ]
     },
     "metadata": {},
     "output_type": "display_data"
    }
   ],
   "source": [
    "fare_survived = df.loc[df['Survived']==1]['Fare'].dropna()\n",
    "fare_died = df.loc[df['Survived']==0]['Fare'].dropna()\n",
    "\n",
    "sns.distplot(fare_survived,bins=20,label='Survived')\n",
    "sns.distplot(fare_died,bins=20,label='Died')\n",
    "plt.legend()"
   ]
  },
  {
   "cell_type": "markdown",
   "metadata": {},
   "source": [
    "Lowest fares had a very high likelihood of dying. The higher the fare the better your chance at surviving. "
   ]
  },
  {
   "cell_type": "code",
   "execution_count": 139,
   "metadata": {},
   "outputs": [
    {
     "data": {
      "text/plain": [
       "<matplotlib.axes._subplots.AxesSubplot at 0x1e409e73a20>"
      ]
     },
     "execution_count": 139,
     "metadata": {},
     "output_type": "execute_result"
    },
    {
     "data": {
      "image/png": "[encoded data removed]",
      "text/plain": [
       "<Figure size 432x288 with 1 Axes>"
      ]
     },
     "metadata": {},
     "output_type": "display_data"
    }
   ],
   "source": [
    "sns.countplot(x='Embarked',data=df,hue='Survived')"
   ]
  },
  {
   "cell_type": "markdown",
   "metadata": {},
   "source": [
    "The port a passenger does seem to have some effect but maybe this is due to a higher percentage of high class passengers?"
   ]
  },
  {
   "cell_type": "markdown",
   "metadata": {},
   "source": [
    "## Feature Engineering "
   ]
  },
  {
   "cell_type": "code",
   "execution_count": 140,
   "metadata": {},
   "outputs": [
    {
     "data": {
      "text/plain": [
       "0      male\n",
       "1    female\n",
       "2    female\n",
       "3    female\n",
       "4      male\n",
       "Name: Sex, dtype: object"
      ]
     },
     "execution_count": 140,
     "metadata": {},
     "output_type": "execute_result"
    }
   ],
   "source": [
    "df_eng = df #Copy the dataframe\n",
    "df_eng['Sex'].head()"
   ]
  },
  {
   "cell_type": "code",
   "execution_count": 141,
   "metadata": {},
   "outputs": [
    {
     "data": {
      "text/plain": [
       "Pclass        -0.369226\n",
       "SibSp         -0.308247\n",
       "Parch         -0.189119\n",
       "Survived      -0.077221\n",
       "PassengerId    0.036847\n",
       "Fare           0.096067\n",
       "Age            1.000000\n",
       "Name: Age, dtype: float64"
      ]
     },
     "execution_count": 141,
     "metadata": {},
     "output_type": "execute_result"
    }
   ],
   "source": [
    "df.corr()['Age'].sort_values()"
   ]
  },
  {
   "cell_type": "code",
   "execution_count": 142,
   "metadata": {},
   "outputs": [],
   "source": [
    "age_lookup = df.groupby(['Sex','Pclass','SibSp']).mean()['Age']\n",
    "def new_age(sex, pclass, sibsp, age):\n",
    "    if np.isnan(age):\n",
    "        return age_lookup[sex,pclass,sibsp]\n",
    "    else:\n",
    "        return age\n",
    "\n",
    "df_eng['Age'] = df_eng.apply(lambda x: new_age(x['Sex'],x['Pclass'],x['SibSp'],x['Age']),axis=1)"
   ]
  },
  {
   "cell_type": "markdown",
   "metadata": {},
   "source": [
    "Dealing with missing values"
   ]
  },
  {
   "cell_type": "code",
   "execution_count": 143,
   "metadata": {},
   "outputs": [],
   "source": [
    "df_eng = df_eng.dropna(subset=['Embarked','Age'])"
   ]
  },
  {
   "cell_type": "code",
   "execution_count": null,
   "metadata": {},
   "outputs": [],
   "source": []
  },
  {
   "cell_type": "markdown",
   "metadata": {},
   "source": [
    "Dropping the cabin column do to the extremely large number of missing data points. Dropping Ticket and Name no useful info. "
   ]
  },
  {
   "cell_type": "code",
   "execution_count": 144,
   "metadata": {},
   "outputs": [],
   "source": [
    "df_eng.drop(['Cabin','Ticket','Name','PassengerId'],axis=1,inplace=True) "
   ]
  },
  {
   "cell_type": "code",
   "execution_count": 145,
   "metadata": {},
   "outputs": [],
   "source": [
    "#Make the dummy variables for Pclass, Sex, SibSp, Parch and Embarked"
   ]
  },
  {
   "cell_type": "code",
   "execution_count": 146,
   "metadata": {
    "scrolled": true
   },
   "outputs": [],
   "source": [
    "dummies = pd.get_dummies(df['Pclass'],drop_first=True,prefix='Pclass')\n",
    "df_eng = pd.concat([df_eng,dummies],axis=1)\n",
    "df_eng.drop('Pclass',axis=1,inplace=True)\n",
    "\n",
    "dummies = pd.get_dummies(df['Sex'],drop_first=True,prefix='Sex')\n",
    "df_eng = pd.concat([df_eng,dummies],axis=1)\n",
    "df_eng.drop('Sex',axis=1,inplace=True)\n",
    "\n",
    "dummies = pd.get_dummies(df['SibSp'],drop_first=True,prefix='SibSp')\n",
    "df_eng = pd.concat([df_eng,dummies],axis=1)\n",
    "df_eng.drop('SibSp',axis=1,inplace=True)\n",
    "\n",
    "dummies = pd.get_dummies(df['Parch'],drop_first=True,prefix='Parch')\n",
    "df_eng = pd.concat([df_eng,dummies],axis=1)\n",
    "df_eng.drop('Parch',axis=1,inplace=True)\n",
    "\n",
    "\n",
    "dummies = pd.get_dummies(df['Embarked'],drop_first=True,prefix='Embarked')\n",
    "df_eng = pd.concat([df_eng,dummies],axis=1)\n",
    "df_eng.drop('Embarked',axis=1,inplace=True)\n",
    "\n",
    "\n",
    "df_eng.dropna(inplace=True)"
   ]
  },
  {
   "cell_type": "code",
   "execution_count": 147,
   "metadata": {},
   "outputs": [
    {
     "data": {
      "text/plain": [
       "Survived      0\n",
       "Age           0\n",
       "Fare          0\n",
       "Pclass_2      0\n",
       "Pclass_3      0\n",
       "Sex_male      0\n",
       "SibSp_1       0\n",
       "SibSp_2       0\n",
       "SibSp_3       0\n",
       "SibSp_4       0\n",
       "SibSp_5       0\n",
       "SibSp_8       0\n",
       "Parch_1       0\n",
       "Parch_2       0\n",
       "Parch_3       0\n",
       "Parch_4       0\n",
       "Parch_5       0\n",
       "Parch_6       0\n",
       "Embarked_Q    0\n",
       "Embarked_S    0\n",
       "dtype: int64"
      ]
     },
     "execution_count": 147,
     "metadata": {},
     "output_type": "execute_result"
    }
   ],
   "source": [
    "df_eng.isnull().sum()"
   ]
  },
  {
   "cell_type": "code",
   "execution_count": 148,
   "metadata": {},
   "outputs": [],
   "source": [
    "X = df_eng.drop('Survived',axis=1).values\n",
    "y = df_eng['Survived'].values\n"
   ]
  },
  {
   "cell_type": "markdown",
   "metadata": {},
   "source": [
    "## Model Making"
   ]
  },
  {
   "cell_type": "markdown",
   "metadata": {},
   "source": [
    "Start with a neural network"
   ]
  },
  {
   "cell_type": "code",
   "execution_count": 149,
   "metadata": {},
   "outputs": [],
   "source": [
    "from sklearn.model_selection import train_test_split\n",
    "from sklearn.preprocessing import MinMaxScaler\n",
    "scaler = MinMaxScaler()"
   ]
  },
  {
   "cell_type": "code",
   "execution_count": 150,
   "metadata": {},
   "outputs": [],
   "source": [
    "#Split the data\n",
    "X_train,X_test,y_train,y_test = train_test_split(X,y,test_size=.25)"
   ]
  },
  {
   "cell_type": "code",
   "execution_count": 151,
   "metadata": {},
   "outputs": [],
   "source": [
    "X_train = scaler.fit_transform(X_train)\n",
    "X_test = scaler.transform(X_test)"
   ]
  },
  {
   "cell_type": "code",
   "execution_count": 152,
   "metadata": {},
   "outputs": [],
   "source": [
    "from tensorflow.keras.models import Sequential\n",
    "from tensorflow.keras.layers import Dense,Dropout\n",
    "from tensorflow.keras.callbacks import EarlyStopping"
   ]
  },
  {
   "cell_type": "code",
   "execution_count": 169,
   "metadata": {},
   "outputs": [],
   "source": [
    "model = Sequential()\n",
    "\n",
    "model.add(Dense(19, activation='relu'))\n",
    "model.add(Dropout(.2))\n",
    "\n",
    "model.add(Dense(9, activation='relu'))\n",
    "model.add(Dropout(.2))\n",
    "\n",
    "model.add(Dense(1,activation='sigmoid'))\n",
    "\n",
    "model.compile(loss='binary_crossentropy',optimizer='adam')"
   ]
  },
  {
   "cell_type": "code",
   "execution_count": 170,
   "metadata": {},
   "outputs": [],
   "source": [
    "early_stop = EarlyStopping(monitor='val_loss',mode='min',verbose=1,patience=55)"
   ]
  },
  {
   "cell_type": "code",
   "execution_count": 171,
   "metadata": {},
   "outputs": [
    {
     "name": "stdout",
     "output_type": "stream",
     "text": [
      "Train on 661 samples, validate on 221 samples\n",
      "Epoch 1/600\n",
      "661/661 [==============================] - 0s 584us/sample - loss: 0.6795 - val_loss: 0.6398\n",
      "Epoch 2/600\n",
      "661/661 [==============================] - 0s 30us/sample - loss: 0.6557 - val_loss: 0.6189\n",
      "Epoch 3/600\n",
      "661/661 [==============================] - 0s 30us/sample - loss: 0.6289 - val_loss: 0.6037\n",
      "Epoch 4/600\n",
      "661/661 [==============================] - 0s 29us/sample - loss: 0.6216 - val_loss: 0.5895\n",
      "Epoch 5/600\n",
      "661/661 [==============================] - 0s 30us/sample - loss: 0.5909 - val_loss: 0.5763\n",
      "Epoch 6/600\n",
      "661/661 [==============================] - 0s 29us/sample - loss: 0.5972 - val_loss: 0.5663\n",
      "Epoch 7/600\n",
      "661/661 [==============================] - 0s 32us/sample - loss: 0.5682 - val_loss: 0.5538\n",
      "Epoch 8/600\n",
      "661/661 [==============================] - 0s 29us/sample - loss: 0.5617 - val_loss: 0.5444\n",
      "Epoch 9/600\n",
      "661/661 [==============================] - 0s 30us/sample - loss: 0.5546 - val_loss: 0.5335\n",
      "Epoch 10/600\n",
      "661/661 [==============================] - 0s 30us/sample - loss: 0.5579 - val_loss: 0.5287\n",
      "Epoch 11/600\n",
      "661/661 [==============================] - 0s 35us/sample - loss: 0.5327 - val_loss: 0.5217\n",
      "Epoch 12/600\n",
      "661/661 [==============================] - 0s 30us/sample - loss: 0.5186 - val_loss: 0.5182\n",
      "Epoch 13/600\n",
      "661/661 [==============================] - 0s 29us/sample - loss: 0.5345 - val_loss: 0.5157\n",
      "Epoch 14/600\n",
      "661/661 [==============================] - 0s 30us/sample - loss: 0.5190 - val_loss: 0.5140\n",
      "Epoch 15/600\n",
      "661/661 [==============================] - 0s 30us/sample - loss: 0.5190 - val_loss: 0.5074\n",
      "Epoch 16/600\n",
      "661/661 [==============================] - 0s 29us/sample - loss: 0.5069 - val_loss: 0.5069\n",
      "Epoch 17/600\n",
      "661/661 [==============================] - 0s 29us/sample - loss: 0.5033 - val_loss: 0.5045\n",
      "Epoch 18/600\n",
      "661/661 [==============================] - 0s 29us/sample - loss: 0.5025 - val_loss: 0.5041\n",
      "Epoch 19/600\n",
      "661/661 [==============================] - 0s 29us/sample - loss: 0.4983 - val_loss: 0.5018\n",
      "Epoch 20/600\n",
      "661/661 [==============================] - 0s 33us/sample - loss: 0.4798 - val_loss: 0.5038\n",
      "Epoch 21/600\n",
      "661/661 [==============================] - 0s 30us/sample - loss: 0.4971 - val_loss: 0.5023\n",
      "Epoch 22/600\n",
      "661/661 [==============================] - 0s 29us/sample - loss: 0.4909 - val_loss: 0.5031\n",
      "Epoch 23/600\n",
      "661/661 [==============================] - 0s 29us/sample - loss: 0.4907 - val_loss: 0.5046\n",
      "Epoch 24/600\n",
      "661/661 [==============================] - 0s 30us/sample - loss: 0.4779 - val_loss: 0.4972\n",
      "Epoch 25/600\n",
      "661/661 [==============================] - 0s 29us/sample - loss: 0.4786 - val_loss: 0.4997\n",
      "Epoch 26/600\n",
      "661/661 [==============================] - 0s 30us/sample - loss: 0.4911 - val_loss: 0.4978\n",
      "Epoch 27/600\n",
      "661/661 [==============================] - 0s 29us/sample - loss: 0.4884 - val_loss: 0.4969\n",
      "Epoch 28/600\n",
      "661/661 [==============================] - 0s 29us/sample - loss: 0.4870 - val_loss: 0.4940\n",
      "Epoch 29/600\n",
      "661/661 [==============================] - 0s 29us/sample - loss: 0.4670 - val_loss: 0.4898\n",
      "Epoch 30/600\n",
      "661/661 [==============================] - 0s 29us/sample - loss: 0.4671 - val_loss: 0.4906\n",
      "Epoch 31/600\n",
      "661/661 [==============================] - 0s 29us/sample - loss: 0.4817 - val_loss: 0.4927\n",
      "Epoch 32/600\n",
      "661/661 [==============================] - 0s 30us/sample - loss: 0.4782 - val_loss: 0.4939\n",
      "Epoch 33/600\n",
      "661/661 [==============================] - 0s 27us/sample - loss: 0.4769 - val_loss: 0.4905\n",
      "Epoch 34/600\n",
      "661/661 [==============================] - 0s 29us/sample - loss: 0.4716 - val_loss: 0.4894\n",
      "Epoch 35/600\n",
      "661/661 [==============================] - 0s 30us/sample - loss: 0.4692 - val_loss: 0.4860\n",
      "Epoch 36/600\n",
      "661/661 [==============================] - 0s 29us/sample - loss: 0.4611 - val_loss: 0.4876\n",
      "Epoch 37/600\n",
      "661/661 [==============================] - 0s 29us/sample - loss: 0.4675 - val_loss: 0.4847\n",
      "Epoch 38/600\n",
      "661/661 [==============================] - 0s 30us/sample - loss: 0.4604 - val_loss: 0.4853\n",
      "Epoch 39/600\n",
      "661/661 [==============================] - 0s 30us/sample - loss: 0.4479 - val_loss: 0.4867\n",
      "Epoch 40/600\n",
      "661/661 [==============================] - 0s 29us/sample - loss: 0.4654 - val_loss: 0.4849\n",
      "Epoch 41/600\n",
      "661/661 [==============================] - 0s 27us/sample - loss: 0.4592 - val_loss: 0.4842\n",
      "Epoch 42/600\n",
      "661/661 [==============================] - 0s 30us/sample - loss: 0.4601 - val_loss: 0.4864\n",
      "Epoch 43/600\n",
      "661/661 [==============================] - 0s 35us/sample - loss: 0.4660 - val_loss: 0.4847\n",
      "Epoch 44/600\n",
      "661/661 [==============================] - 0s 32us/sample - loss: 0.4506 - val_loss: 0.4836\n",
      "Epoch 45/600\n",
      "661/661 [==============================] - 0s 29us/sample - loss: 0.4493 - val_loss: 0.4840\n",
      "Epoch 46/600\n",
      "661/661 [==============================] - 0s 32us/sample - loss: 0.4439 - val_loss: 0.4832\n",
      "Epoch 47/600\n",
      "661/661 [==============================] - 0s 30us/sample - loss: 0.4322 - val_loss: 0.4869\n",
      "Epoch 48/600\n",
      "661/661 [==============================] - 0s 29us/sample - loss: 0.4469 - val_loss: 0.4830\n",
      "Epoch 49/600\n",
      "661/661 [==============================] - 0s 33us/sample - loss: 0.4420 - val_loss: 0.4798\n",
      "Epoch 50/600\n",
      "661/661 [==============================] - 0s 32us/sample - loss: 0.4302 - val_loss: 0.4815\n",
      "Epoch 51/600\n",
      "661/661 [==============================] - 0s 32us/sample - loss: 0.4286 - val_loss: 0.4834\n",
      "Epoch 52/600\n",
      "661/661 [==============================] - 0s 30us/sample - loss: 0.4496 - val_loss: 0.4834\n",
      "Epoch 53/600\n",
      "661/661 [==============================] - 0s 30us/sample - loss: 0.4304 - val_loss: 0.4827\n",
      "Epoch 54/600\n",
      "661/661 [==============================] - 0s 33us/sample - loss: 0.4485 - val_loss: 0.4831\n",
      "Epoch 55/600\n",
      "661/661 [==============================] - 0s 32us/sample - loss: 0.4441 - val_loss: 0.4855\n",
      "Epoch 56/600\n",
      "661/661 [==============================] - 0s 29us/sample - loss: 0.4298 - val_loss: 0.4824\n",
      "Epoch 57/600\n",
      "661/661 [==============================] - 0s 29us/sample - loss: 0.4396 - val_loss: 0.4817\n",
      "Epoch 58/600\n",
      "661/661 [==============================] - 0s 34us/sample - loss: 0.4377 - val_loss: 0.4798\n",
      "Epoch 59/600\n",
      "661/661 [==============================] - 0s 29us/sample - loss: 0.4323 - val_loss: 0.4808\n",
      "Epoch 60/600\n",
      "661/661 [==============================] - 0s 30us/sample - loss: 0.4312 - val_loss: 0.4849\n",
      "Epoch 61/600\n",
      "661/661 [==============================] - 0s 33us/sample - loss: 0.4211 - val_loss: 0.4827\n",
      "Epoch 62/600\n",
      "661/661 [==============================] - 0s 32us/sample - loss: 0.4442 - val_loss: 0.4809\n",
      "Epoch 63/600\n",
      "661/661 [==============================] - 0s 32us/sample - loss: 0.4372 - val_loss: 0.4815\n",
      "Epoch 64/600\n",
      "661/661 [==============================] - 0s 30us/sample - loss: 0.4249 - val_loss: 0.4824\n",
      "Epoch 65/600\n",
      "661/661 [==============================] - 0s 29us/sample - loss: 0.4366 - val_loss: 0.4816\n",
      "Epoch 66/600\n",
      "661/661 [==============================] - 0s 29us/sample - loss: 0.4292 - val_loss: 0.4805\n",
      "Epoch 67/600\n",
      "661/661 [==============================] - 0s 29us/sample - loss: 0.4276 - val_loss: 0.4805\n",
      "Epoch 68/600\n",
      "661/661 [==============================] - 0s 29us/sample - loss: 0.4356 - val_loss: 0.4824\n",
      "Epoch 69/600\n",
      "661/661 [==============================] - 0s 29us/sample - loss: 0.4199 - val_loss: 0.4849\n",
      "Epoch 70/600\n",
      "661/661 [==============================] - 0s 29us/sample - loss: 0.4318 - val_loss: 0.4803\n",
      "Epoch 71/600\n",
      "661/661 [==============================] - 0s 30us/sample - loss: 0.4254 - val_loss: 0.4837\n",
      "Epoch 72/600\n",
      "661/661 [==============================] - 0s 30us/sample - loss: 0.4341 - val_loss: 0.4848\n",
      "Epoch 73/600\n",
      "661/661 [==============================] - 0s 32us/sample - loss: 0.4323 - val_loss: 0.4856\n",
      "Epoch 74/600\n",
      "661/661 [==============================] - 0s 32us/sample - loss: 0.4117 - val_loss: 0.4829\n",
      "Epoch 75/600\n",
      "661/661 [==============================] - 0s 30us/sample - loss: 0.4377 - val_loss: 0.4844\n",
      "Epoch 76/600\n",
      "661/661 [==============================] - 0s 30us/sample - loss: 0.4310 - val_loss: 0.4826\n",
      "Epoch 77/600\n",
      "661/661 [==============================] - 0s 29us/sample - loss: 0.4259 - val_loss: 0.4824\n",
      "Epoch 78/600\n"
     ]
    },
    {
     "name": "stdout",
     "output_type": "stream",
     "text": [
      "661/661 [==============================] - 0s 30us/sample - loss: 0.4186 - val_loss: 0.4848\n",
      "Epoch 79/600\n",
      "661/661 [==============================] - 0s 29us/sample - loss: 0.4283 - val_loss: 0.4849\n",
      "Epoch 80/600\n",
      "661/661 [==============================] - 0s 29us/sample - loss: 0.4209 - val_loss: 0.4845\n",
      "Epoch 81/600\n",
      "661/661 [==============================] - 0s 30us/sample - loss: 0.4303 - val_loss: 0.4902\n",
      "Epoch 82/600\n",
      "661/661 [==============================] - 0s 29us/sample - loss: 0.4169 - val_loss: 0.4861\n",
      "Epoch 83/600\n",
      "661/661 [==============================] - 0s 29us/sample - loss: 0.4294 - val_loss: 0.4833\n",
      "Epoch 84/600\n",
      "661/661 [==============================] - 0s 30us/sample - loss: 0.4139 - val_loss: 0.4852\n",
      "Epoch 85/600\n",
      "661/661 [==============================] - 0s 30us/sample - loss: 0.4415 - val_loss: 0.4875\n",
      "Epoch 86/600\n",
      "661/661 [==============================] - 0s 29us/sample - loss: 0.4184 - val_loss: 0.4870\n",
      "Epoch 87/600\n",
      "661/661 [==============================] - 0s 30us/sample - loss: 0.4173 - val_loss: 0.4840\n",
      "Epoch 88/600\n",
      "661/661 [==============================] - 0s 29us/sample - loss: 0.4145 - val_loss: 0.4848\n",
      "Epoch 89/600\n",
      "661/661 [==============================] - 0s 33us/sample - loss: 0.4164 - val_loss: 0.4884\n",
      "Epoch 90/600\n",
      "661/661 [==============================] - 0s 30us/sample - loss: 0.4173 - val_loss: 0.4827\n",
      "Epoch 91/600\n",
      "661/661 [==============================] - 0s 32us/sample - loss: 0.4141 - val_loss: 0.4842\n",
      "Epoch 92/600\n",
      "661/661 [==============================] - 0s 33us/sample - loss: 0.4206 - val_loss: 0.4827\n",
      "Epoch 93/600\n",
      "661/661 [==============================] - 0s 30us/sample - loss: 0.4317 - val_loss: 0.4831\n",
      "Epoch 94/600\n",
      "661/661 [==============================] - 0s 30us/sample - loss: 0.4194 - val_loss: 0.4844\n",
      "Epoch 95/600\n",
      "661/661 [==============================] - 0s 29us/sample - loss: 0.4223 - val_loss: 0.4849\n",
      "Epoch 96/600\n",
      "661/661 [==============================] - 0s 29us/sample - loss: 0.4111 - val_loss: 0.4836\n",
      "Epoch 97/600\n",
      "661/661 [==============================] - 0s 30us/sample - loss: 0.4045 - val_loss: 0.4820\n",
      "Epoch 98/600\n",
      "661/661 [==============================] - 0s 29us/sample - loss: 0.4157 - val_loss: 0.4826\n",
      "Epoch 99/600\n",
      "661/661 [==============================] - 0s 29us/sample - loss: 0.4219 - val_loss: 0.4849\n",
      "Epoch 100/600\n",
      "661/661 [==============================] - 0s 28us/sample - loss: 0.4125 - val_loss: 0.4814\n",
      "Epoch 101/600\n",
      "661/661 [==============================] - 0s 29us/sample - loss: 0.4231 - val_loss: 0.4825\n",
      "Epoch 102/600\n",
      "661/661 [==============================] - 0s 31us/sample - loss: 0.4184 - val_loss: 0.4844\n",
      "Epoch 103/600\n",
      "661/661 [==============================] - 0s 30us/sample - loss: 0.4166 - val_loss: 0.4842\n",
      "Epoch 104/600\n",
      "661/661 [==============================] - 0s 27us/sample - loss: 0.4212 - val_loss: 0.4835\n",
      "Epoch 00104: early stopping\n"
     ]
    },
    {
     "data": {
      "text/plain": [
       "<tensorflow.python.keras.callbacks.History at 0x1e412b87ef0>"
      ]
     },
     "execution_count": 171,
     "metadata": {},
     "output_type": "execute_result"
    }
   ],
   "source": [
    "model.fit(x=X_train,y=y_train,epochs=600,validation_data=(X_test,y_test),callbacks=[early_stop])"
   ]
  },
  {
   "cell_type": "code",
   "execution_count": 172,
   "metadata": {},
   "outputs": [
    {
     "data": {
      "text/plain": [
       "<matplotlib.axes._subplots.AxesSubplot at 0x1e412d28940>"
      ]
     },
     "execution_count": 172,
     "metadata": {},
     "output_type": "execute_result"
    },
    {
     "data": {
      "image/png": "[encoded data removed]",
      "text/plain": [
       "<Figure size 432x288 with 1 Axes>"
      ]
     },
     "metadata": {},
     "output_type": "display_data"
    }
   ],
   "source": [
    "model_loss = pd.DataFrame(model.history.history)\n",
    "model_loss.plot()"
   ]
  },
  {
   "cell_type": "code",
   "execution_count": 173,
   "metadata": {},
   "outputs": [],
   "source": [
    "predictions = model.predict_classes(X_test)"
   ]
  },
  {
   "cell_type": "code",
   "execution_count": 174,
   "metadata": {},
   "outputs": [],
   "source": [
    "from sklearn.metrics import classification_report, confusion_matrix"
   ]
  },
  {
   "cell_type": "code",
   "execution_count": 175,
   "metadata": {},
   "outputs": [
    {
     "name": "stdout",
     "output_type": "stream",
     "text": [
      "              precision    recall  f1-score   support\n",
      "\n",
      "         0.0       0.78      0.89      0.83       139\n",
      "         1.0       0.76      0.57      0.65        82\n",
      "\n",
      "    accuracy                           0.77       221\n",
      "   macro avg       0.77      0.73      0.74       221\n",
      "weighted avg       0.77      0.77      0.77       221\n",
      "\n",
      "\n",
      "\n",
      "[[124  15]\n",
      " [ 35  47]]\n"
     ]
    }
   ],
   "source": [
    "print(classification_report(y_test,predictions))\n",
    "print('\\n')\n",
    "print(confusion_matrix(y_test,predictions))"
   ]
  },
  {
   "cell_type": "markdown",
   "metadata": {},
   "source": [
    "With this approach it looks like we are miss labeling a lot of survivors as non survivors"
   ]
  }
 ],
 "metadata": {
  "kernelspec": {
   "display_name": "Python 3",
   "language": "python",
   "name": "python3"
  },
  "language_info": {
   "codemirror_mode": {
    "name": "ipython",
    "version": 3
   },
   "file_extension": ".py",
   "mimetype": "text/x-python",
   "name": "python",
   "nbconvert_exporter": "python",
   "pygments_lexer": "ipython3",
   "version": "3.7.3"
  }
 },
 "nbformat": 4,
 "nbformat_minor": 2
}
